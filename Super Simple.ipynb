{
 "cells": [
  {
   "cell_type": "code",
   "execution_count": 1,
   "metadata": {},
   "outputs": [
    {
     "name": "stdout",
     "output_type": "stream",
     "text": [
      "cat 3\n",
      "window 6\n",
      "defenestrate 12\n"
     ]
    }
   ],
   "source": [
    "# Measure some strings:\n",
    "\n",
    "a = ['cat', 'window', 'defenestrate']\n",
    "\n",
    "for x in a:\n",
    "    print(x, len(x))\n",
    "\n",
    "# comment"
   ]
  },
  {
   "cell_type": "code",
   "execution_count": 14,
   "metadata": {},
   "outputs": [
    {
     "name": "stdout",
     "output_type": "stream",
     "text": [
      "[1, 2, 3, 4, 5, 6, 7, 8, 9]\n",
      "1\n",
      "2\n",
      "3\n",
      "4\n",
      "5\n",
      "6\n",
      "7\n",
      "8\n",
      "9\n",
      "range(5, 10)\n",
      "[5, 6, 7, 8, 9]\n",
      "[0, 3, 6, 9]\n",
      "0 Mary\n",
      "1 had\n",
      "2 a\n",
      "3 little\n",
      "4 lamb\n"
     ]
    }
   ],
   "source": [
    "# range function\n",
    "\n",
    "x = list(range(1,10))\n",
    "print(x)\n",
    "for i in x:\n",
    "    print(i)\n",
    "\n",
    "y = range(5, 10)\n",
    "print(y)\n",
    "\n",
    "print(list(range(5, 10)))\n",
    "\n",
    "\n",
    "print(list(range(0, 10, 3)))\n",
    "\n",
    "\n",
    "a = ['Mary', 'had', 'a', 'little', 'lamb']\n",
    "for i in range(len(a)):\n",
    "    print(i, a[i])\n"
   ]
  },
  {
   "cell_type": "code",
   "execution_count": 15,
   "metadata": {},
   "outputs": [
    {
     "name": "stdout",
     "output_type": "stream",
     "text": [
      "2 1 0\n",
      "[66.6, 333, -1, 333, 1, 1234.5]\n",
      "[66.6, 333, -1, 333, 1, 1234.5, 333]\n",
      "1\n",
      "[66.6, -1, 333, 1, 1234.5, 333]\n",
      "[333, 1234.5, 1, 333, -1, 66.6]\n",
      "[-1, 1, 66.6, 333, 333, 1234.5]\n"
     ]
    }
   ],
   "source": [
    "# more work with lists\n",
    "\n",
    "a = [66.6, 333, 333, 1, 1234.5]\n",
    "\n",
    "print(a.count(333), a.count(66.6), a.count('x'))\n",
    "\n",
    "a.insert(2, -1)\n",
    "print (a)\n",
    "\n",
    "a.append(333)\n",
    "print (a)\n",
    "\n",
    "print (a.index(333))\n",
    "\n",
    "a.remove(333)\n",
    "print(a)\n",
    "\n",
    "a.reverse()\n",
    "print (a)\n",
    "\n",
    "a.sort()\n",
    "print (a)\n"
   ]
  },
  {
   "cell_type": "code",
   "execution_count": 16,
   "metadata": {},
   "outputs": [
    {
     "name": "stdout",
     "output_type": "stream",
     "text": [
      "<filter object at 0x11088d850>\n",
      "5\n",
      "7\n",
      "11\n",
      "13\n",
      "17\n",
      "19\n",
      "23\n"
     ]
    }
   ],
   "source": [
    "# filter of sequence\n",
    "\n",
    "def f(x): return x % 2 != 0 and x % 3 != 0\n",
    "\n",
    "res=filter(f, range(2, 25))\n",
    "\n",
    "print(res) #oops\n",
    "for i in res:\n",
    "    print(i)"
   ]
  },
  {
   "cell_type": "code",
   "execution_count": 17,
   "metadata": {},
   "outputs": [
    {
     "name": "stdout",
     "output_type": "stream",
     "text": [
      "<map object at 0x1108931d0>\n",
      "1\n",
      "8\n",
      "27\n",
      "64\n",
      "125\n",
      "216\n",
      "343\n",
      "512\n",
      "729\n",
      "1000\n"
     ]
    }
   ],
   "source": [
    "# map of sequence\n",
    "\n",
    "def cube(x): return x*x*x\n",
    "\n",
    "res=map(cube, range(1, 11))\n",
    "\n",
    "print(res) #oops\n",
    "for i in res:\n",
    "    print(i)"
   ]
  },
  {
   "cell_type": "code",
   "execution_count": 18,
   "metadata": {},
   "outputs": [
    {
     "name": "stdout",
     "output_type": "stream",
     "text": [
      "b'{\"$id\":\"1\",\"currentDateTime\":\"2020-03-03T14:52-05:00\",\"utcOffset\":\"-05:00:00\",\"isDayLightSavingsTime\":false,\"dayOfTheWeek\":\"Tuesday\",\"timeZoneName\":\"Eastern Standard Time\",\"currentFileTime\":132277207686459860,\"ordinalDate\":\"2020-63\",\"serviceResponse\":null}'\n"
     ]
    }
   ],
   "source": [
    "import urllib.request\n",
    "\n",
    "for line in urllib.request.urlopen('http://worldclockapi.com/api/json/est/now'):\n",
    "        print(line)"
   ]
  },
  {
   "cell_type": "code",
   "execution_count": null,
   "metadata": {},
   "outputs": [],
   "source": []
  }
 ],
 "metadata": {
  "kernelspec": {
   "display_name": "Python 3",
   "language": "python",
   "name": "python3"
  },
  "language_info": {
   "codemirror_mode": {
    "name": "ipython",
    "version": 3
   },
   "file_extension": ".py",
   "mimetype": "text/x-python",
   "name": "python",
   "nbconvert_exporter": "python",
   "pygments_lexer": "ipython3",
   "version": "3.7.4"
  }
 },
 "nbformat": 4,
 "nbformat_minor": 2
}

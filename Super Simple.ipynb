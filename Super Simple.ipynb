{
 "cells": [
  {
   "cell_type": "code",
   "execution_count": null,
   "metadata": {},
   "outputs": [],
   "source": [
    "# Measure some strings:\n",
    "a = ['cat', 'window', 'defenestrate']\n",
    "for x in a:\n",
    "    print(x, len(x))\n",
    "    "
   ]
  },
  {
   "cell_type": "code",
   "execution_count": null,
   "metadata": {},
   "outputs": [],
   "source": [
    "# range function\n",
    "\n",
    "print(range(10))\n",
    "\n",
    "print(range(5, 10))\n",
    "\n",
    "print(range(0, 10, 3))\n",
    "\n",
    "\n",
    "a = ['Mary', 'had', 'a', 'little', 'lamb']\n",
    "for i in range(len(a)):\n",
    "    print(i, a[i])\n"
   ]
  },
  {
   "cell_type": "code",
   "execution_count": null,
   "metadata": {},
   "outputs": [],
   "source": [
    "# more work with lists\n",
    "\n",
    "a = [66.6, 333, 333, 1, 1234.5]\n",
    "\n",
    "print(a.count(333), a.count(66.6), a.count('x'))\n",
    "\n",
    "a.insert(2, -1)\n",
    "print (a)\n",
    "\n",
    "a.append(333)\n",
    "print (a)\n",
    "\n",
    "print (a.index(333))\n",
    "\n",
    "a.remove(333)\n",
    "print(a)\n",
    "\n",
    "a.reverse()\n",
    "print (a)\n",
    "\n",
    "a.sort()\n",
    "print (a)\n"
   ]
  },
  {
   "cell_type": "code",
   "execution_count": null,
   "metadata": {},
   "outputs": [],
   "source": [
    "# filter of sequence\n",
    "\n",
    "def f(x): return x % 2 != 0 and x % 3 != 0\n",
    "\n",
    "res=filter(f, range(2, 25))\n",
    "\n",
    "print(res) #oops\n",
    "for i in res:\n",
    "    print(i)"
   ]
  },
  {
   "cell_type": "code",
   "execution_count": null,
   "metadata": {},
   "outputs": [],
   "source": [
    "# map of sequence\n",
    "\n",
    "def cube(x): return x*x*x\n",
    "\n",
    "res=map(cube, range(1, 11))\n",
    "\n",
    "print(res) #oops\n",
    "for i in res:\n",
    "    print(i)"
   ]
  },
  {
   "cell_type": "code",
   "execution_count": null,
   "metadata": {},
   "outputs": [],
   "source": [
    "import urllib.request\n",
    "\n",
    "for line in urllib.request.urlopen('http://worldclockapi.com/api/json/est/now'):\n",
    "        print(line)"
   ]
  },
  {
   "cell_type": "code",
   "execution_count": null,
   "metadata": {},
   "outputs": [],
   "source": []
  }
 ],
 "metadata": {
  "kernelspec": {
   "display_name": "Python 3",
   "language": "python",
   "name": "python3"
  },
  "language_info": {
   "codemirror_mode": {
    "name": "ipython",
    "version": 3
   },
   "file_extension": ".py",
   "mimetype": "text/x-python",
   "name": "python",
   "nbconvert_exporter": "python",
   "pygments_lexer": "ipython3",
   "version": "3.7.4"
  }
 },
 "nbformat": 4,
 "nbformat_minor": 2
}
